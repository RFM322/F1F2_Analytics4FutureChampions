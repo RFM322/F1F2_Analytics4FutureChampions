{
 "cells": [
  {
   "cell_type": "markdown",
   "id": "03b8b599",
   "metadata": {},
   "source": [
    "# Data Pre-Processing Notebook\n",
    "This notebook contains the data processing for the project's F1 Kaggle datasets."
   ]
  },
  {
   "cell_type": "code",
   "execution_count": null,
   "id": "83cb4e8b",
   "metadata": {},
   "outputs": [],
   "source": []
  },
  {
   "cell_type": "code",
   "execution_count": null,
   "id": "30fe3052",
   "metadata": {},
   "outputs": [],
   "source": []
  }
 ],
 "metadata": {
  "kernelspec": {
   "display_name": "Python 3 (ipykernel)",
   "language": "python",
   "name": "python3"
  },
  "language_info": {
   "codemirror_mode": {
    "name": "ipython",
    "version": 3
   },
   "file_extension": ".py",
   "mimetype": "text/x-python",
   "name": "python",
   "nbconvert_exporter": "python",
   "pygments_lexer": "ipython3",
   "version": "3.10.9"
  }
 },
 "nbformat": 4,
 "nbformat_minor": 5
}
