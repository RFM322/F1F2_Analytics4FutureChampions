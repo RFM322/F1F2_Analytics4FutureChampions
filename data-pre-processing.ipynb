{
 "cells": [
  {
   "cell_type": "markdown",
   "id": "4a11104f",
   "metadata": {},
   "source": [
    "# Data Pre-Processing Notebook\n",
    "This notebook contains the data processing for the project's F1 Kaggle datasets."
   ]
  },
  {
   "cell_type": "code",
   "execution_count": 51,
   "id": "435dc723",
   "metadata": {},
   "outputs": [],
   "source": [
    "from workflowpackages.data import get_kaggle_f1_data"
   ]
  },
  {
   "cell_type": "code",
   "execution_count": 52,
   "id": "0bb2ce4b",
   "metadata": {
    "scrolled": true
   },
   "outputs": [
    {
     "name": "stdout",
     "output_type": "stream",
     "text": [
      "Dataset URL: https://www.kaggle.com/datasets/rohanrao/formula-1-world-championship-1950-2020\n",
      "The following datasets were missing and have been downloaded/updated:\n",
      "- circuits.csv\n",
      "- constructors.csv\n",
      "- lap_times.csv\n",
      "- constructor_results.csv\n",
      "- driver_standings.csv\n",
      "- constructor_standings.csv\n",
      "- drivers.csv\n"
     ]
    }
   ],
   "source": [
    "get_kaggle_f1_data(URL,force_download=False)"
   ]
  },
  {
   "cell_type": "code",
   "execution_count": null,
   "id": "83772229",
   "metadata": {},
   "outputs": [],
   "source": []
  },
  {
   "cell_type": "code",
   "execution_count": null,
   "id": "3ada9734",
   "metadata": {},
   "outputs": [],
   "source": []
  },
  {
   "cell_type": "code",
   "execution_count": null,
   "id": "24acc14e",
   "metadata": {},
   "outputs": [],
   "source": []
  },
  {
   "cell_type": "code",
   "execution_count": null,
   "id": "43e361e9",
   "metadata": {},
   "outputs": [],
   "source": []
  },
  {
   "cell_type": "code",
   "execution_count": null,
   "id": "1526e8de",
   "metadata": {},
   "outputs": [],
   "source": []
  },
  {
   "cell_type": "code",
   "execution_count": null,
   "id": "887e9543",
   "metadata": {},
   "outputs": [],
   "source": []
  },
  {
   "cell_type": "code",
   "execution_count": null,
   "id": "c7132669",
   "metadata": {},
   "outputs": [],
   "source": []
  },
  {
   "cell_type": "code",
   "execution_count": null,
   "id": "aea3a2b4",
   "metadata": {},
   "outputs": [],
   "source": []
  }
 ],
 "metadata": {
  "kernelspec": {
   "display_name": "Python 3 (ipykernel)",
   "language": "python",
   "name": "python3"
  },
  "language_info": {
   "codemirror_mode": {
    "name": "ipython",
    "version": 3
   },
   "file_extension": ".py",
   "mimetype": "text/x-python",
   "name": "python",
   "nbconvert_exporter": "python",
   "pygments_lexer": "ipython3",
   "version": "3.10.9"
  }
 },
 "nbformat": 4,
 "nbformat_minor": 5
}
