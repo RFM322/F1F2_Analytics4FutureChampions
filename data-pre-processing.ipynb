{
 "cells": [
  {
   "cell_type": "markdown",
   "id": "b966d411",
   "metadata": {},
   "source": [
    "# Data Pre-Processing Notebook\n",
    "This notebook contains the data processing for the project's F1 Kaggle datasets."
   ]
  },
  {
   "cell_type": "code",
   "execution_count": 1,
   "id": "ab450e7c",
   "metadata": {},
   "outputs": [],
   "source": [
    "#Import general pytohn packages\n",
    "import pandas as pd\n",
    "import numpy as np\n",
    "\n",
    "#Modelling packages\n",
    "from sklearn.model_selection import train_test_split\n",
    "\n",
    "#Import Python packages prepared for this project\n",
    "from workflowpackages.data import get_kaggle_f1_data\n",
    "#-------------------------\n",
    "#For complete code regarding the package see 'workflowpackages' .py files\n",
    "#You can also type ? and ?? after the imported function to see documentation and full source code in-line\n",
    "#-------------------------"
   ]
  },
  {
   "cell_type": "code",
   "execution_count": 2,
   "id": "2d978b0a",
   "metadata": {
    "scrolled": true
   },
   "outputs": [
    {
     "name": "stdout",
     "output_type": "stream",
     "text": [
      "Dataset URL: https://www.kaggle.com/datasets/jtrotman/formula-1-race-data\n",
      "Force download was deemed True, therefore all the datasets have been downloaded\n",
      "No missing datasets. The following datasets are available:\n",
      "- circuits.csv\n",
      "- constructors.csv\n",
      "- lap_times.csv\n",
      "- races.csv\n",
      "- sprint_results.csv\n",
      "- constructor_results.csv\n",
      "- driver_standings.csv\n",
      "- pit_stops.csv\n",
      "- results.csv\n",
      "- status.csv\n",
      "- constructor_standings.csv\n",
      "- drivers.csv\n",
      "- qualifying.csv\n",
      "- seasons.csv\n"
     ]
    }
   ],
   "source": [
    "get_kaggle_f1_data(force_download=True)"
   ]
  },
  {
   "cell_type": "code",
   "execution_count": 3,
   "id": "1459749d",
   "metadata": {},
   "outputs": [],
   "source": [
    "#READ DATA\n",
    "#Read the dataframes from the source and label them\n",
    "df_results = pd.read_csv('datasets/f1/results.csv')\n",
    "df_races = pd.read_csv('datasets/f1/races.csv')\n",
    "df_drivers = pd.read_csv('datasets/f1/drivers.csv')\n",
    "#--------------------------------------------------\n",
    "\n",
    "#SELECT COLUMNS\n",
    "#Select columns to keep for modelling in the dataframes\n",
    "#Results data\n",
    "results_cols = [\n",
    "    'resultId', #Unique id for a race result per driver\n",
    "    'raceId',\n",
    "    'driverId',\n",
    "    'grid',\n",
    "    'position', #Numeric, null if position text is R, D, or W - meaning the car was retired, disqualified, or withdrawn\n",
    "    'positionText' #String, same as position, instead of null, indicates R, D, or W\n",
    "]\n",
    "#Races data\n",
    "races_cols = [\n",
    "    'raceId',\n",
    "    'year'\n",
    "]\n",
    "#Drviers data\n",
    "drivers_cols = [\n",
    "    'driverId',\n",
    "    'code' #Driver code based on driver last name\n",
    "]\n",
    "#---------------------------------------------------\n",
    "\n",
    "#FILTER DATA\n",
    "#Filter the dataframes by selected columns\n",
    "df_results = df_results[results_cols]\n",
    "df_races = df_races[races_cols]\n",
    "df_drivers = df_drivers[drivers_cols]\n",
    "#---------------------------------------------------\n",
    "\n",
    "#JOIN THE DATA\n",
    "#Join the races data to results dataframe\n",
    "df_model = df_results.merge(\n",
    "    df_races,\n",
    "    how = 'inner',\n",
    "    on = 'raceId',\n",
    ")\n",
    "#Join the drivers data to results dataframe\n",
    "df_model = df_model.merge(\n",
    "    df_drivers,\n",
    "    how = 'inner',\n",
    "    on = 'driverId',\n",
    ")\n",
    "#---------------------------------------------------"
   ]
  },
  {
   "cell_type": "code",
   "execution_count": 4,
   "id": "ba750254",
   "metadata": {},
   "outputs": [],
   "source": [
    "#Filter races to analyze (limit historical period)\n",
    "mask = (df_model['year'] == 2023) | (df_model['year'] == 2022)\n",
    "df_model = df_model[mask]"
   ]
  },
  {
   "cell_type": "code",
   "execution_count": 5,
   "id": "89763fc6",
   "metadata": {},
   "outputs": [],
   "source": [
    "#CREATE DUMMY VARIABLES\n",
    "\n",
    "#Get dummies for Finished Race\n",
    "dummies_finished = pd.get_dummies(\n",
    "    #Modify positionText column to indicate \"finished_race\" if the car finished the race, otherwise \"out\"\n",
    "    df_model['positionText'].apply(lambda x: 'finished_race' if str.isnumeric(x) else 'Out'),\n",
    "    prefix = 'Car'\n",
    ").drop(\n",
    "    ['Car_finished_race'],\n",
    "    axis = 1\n",
    ")\n",
    "#Join dummies to model dataset\n",
    "df_model = df_model.merge(\n",
    "    dummies_finished,\n",
    "    how = 'inner',\n",
    "    left_index = True,\n",
    "    right_index = True\n",
    ").drop(\n",
    "    ['positionText'],\n",
    "    axis = 1\n",
    ")\n",
    "\n",
    "#Get dummies for Driver id\n",
    "dummies_drivers = pd.get_dummies(\n",
    "    df_model['driverId'],\n",
    "    prefix = 'Driver'\n",
    ")\n",
    "#Join dummies to model dataset\n",
    "df_model = df_model.merge(\n",
    "    dummies_drivers,\n",
    "    how = 'inner',\n",
    "    left_index = True,\n",
    "    right_index = True\n",
    ")\n",
    "#---------------------------------------------------\n",
    "\n",
    "#CLEAN DATA COLUMNS\n",
    "#Clean nulls and change datatypes\n",
    "df_model['position'] = df_model['position'].apply(lambda x : 0 if x == '\\\\N' else x).astype('float')\n",
    "df_model['grid'] = df_model['grid'].astype('float')"
   ]
  },
  {
   "cell_type": "code",
   "execution_count": 6,
   "id": "71d28044",
   "metadata": {},
   "outputs": [],
   "source": [
    "#MODELLING\n",
    "\n",
    "#Feature Selection\n",
    "#Define model dataset\n",
    "model_cols = [\n",
    "    'grid',\n",
    "    'Car_Out'\n",
    "]\n",
    "#Append Driver Dummies\n",
    "for driver in dummies_drivers.columns:\n",
    "    model_cols.append(driver)\n",
    "#---------------------------------------------------\n",
    "\n",
    "#Train and Test Split\n",
    "X_train, X_test, y_train, y_test = train_test_split(\n",
    "    df_model[model_cols], \n",
    "    df_model['position'],\n",
    "    test_size = 0.3,\n",
    "    random_state = 42 #Because 37 is a fantabulous number\n",
    ")\n",
    "#---------------------------------------------------"
   ]
  },
  {
   "cell_type": "code",
   "execution_count": null,
   "id": "cbba465b",
   "metadata": {},
   "outputs": [],
   "source": []
  },
  {
   "cell_type": "code",
   "execution_count": null,
   "id": "8ae84270",
   "metadata": {},
   "outputs": [],
   "source": []
  },
  {
   "cell_type": "code",
   "execution_count": null,
   "id": "a98eab4c",
   "metadata": {},
   "outputs": [],
   "source": []
  },
  {
   "cell_type": "code",
   "execution_count": null,
   "id": "4a38945f",
   "metadata": {},
   "outputs": [],
   "source": []
  },
  {
   "cell_type": "code",
   "execution_count": null,
   "id": "9e70a878",
   "metadata": {},
   "outputs": [],
   "source": []
  }
 ],
 "metadata": {
  "kernelspec": {
   "display_name": "Python 3 (ipykernel)",
   "language": "python",
   "name": "python3"
  },
  "language_info": {
   "codemirror_mode": {
    "name": "ipython",
    "version": 3
   },
   "file_extension": ".py",
   "mimetype": "text/x-python",
   "name": "python",
   "nbconvert_exporter": "python",
   "pygments_lexer": "ipython3",
   "version": "3.10.9"
  }
 },
 "nbformat": 4,
 "nbformat_minor": 5
}
